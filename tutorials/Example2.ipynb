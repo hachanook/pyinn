{
 "cells": [
  {
   "cell_type": "markdown",
   "id": "d9b731f0",
   "metadata": {},
   "source": [
    "# Example 2: Function fitting\n",
    "## SI Section 2.4: Regression of a deterministic physical function\n",
    "### Reference: INN paper https://arxiv.org/abs/2404.10296"
   ]
  },
  {
   "cell_type": "markdown",
   "id": "64131396",
   "metadata": {},
   "source": [
    "In this example, we fit a 10-input 1-output function described in the SI Section 2.4 of the INN paper.\n",
    "\n",
    "From this function, 1,000,000 randomly sampled data using Latin hypercube sampling are generated and divided into 70% for training, 15% for validation, and 15% for testing. "
   ]
  },
  {
   "cell_type": "markdown",
   "id": "088de169",
   "metadata": {},
   "source": [
    "The first step is to import the pyinn package."
   ]
  },
  {
   "cell_type": "code",
   "execution_count": 8,
   "id": "36e7a0a9",
   "metadata": {},
   "outputs": [],
   "source": [
    "from jax import config\n",
    "import jax.numpy as jnp\n",
    "config.update(\"jax_enable_x64\", True)\n",
    "import os, sys\n",
    "import yaml\n",
    "import importlib\n",
    "\n",
    "from pyinn import dataset_classification, dataset_regression, model, train, plot # with pyinn library\n"
   ]
  },
  {
   "cell_type": "markdown",
   "id": "25381050",
   "metadata": {},
   "source": [
    "First, set up GPUs"
   ]
  },
  {
   "cell_type": "code",
   "execution_count": 9,
   "id": "d9671836",
   "metadata": {},
   "outputs": [],
   "source": [
    "gpu_idx = 2  # set which GPU to run on Athena\n",
    "os.environ[\"CUDA_DEVICE_ORDER\"] = \"PCI_BUS_ID\"  # GPU indexing\n",
    "os.environ[\"CUDA_VISIBLE_DEVICES\"] = str(gpu_idx)  # GPU indexing"
   ]
  },
  {
   "cell_type": "markdown",
   "id": "af0430dd",
   "metadata": {},
   "source": [
    "Next, we create the dataset and store it in /data directory in the current folder. The created datafile will be named as data_name = \"10D_5D_physics.csv\""
   ]
  },
  {
   "cell_type": "code",
   "execution_count": 10,
   "id": "98ac59b9",
   "metadata": {},
   "outputs": [
    {
     "name": "stdout",
     "output_type": "stream",
     "text": [
      "loaded 1000000 datapoints from 10D_5D_physics dataset\n"
     ]
    }
   ],
   "source": [
    "# Define configuration of the dataset & training\n",
    "data_name = '10D_5D_physics' # data file name in /data directory\n",
    "config = {}\n",
    "config[\"DATA_PARAM\"] = {\n",
    "    \"data_name\": data_name,  # name of the dataset\n",
    "    \"input_col\": [0,1,2,3,4,5,6,7,8,9],  # input columns in the dataset\n",
    "    \"output_col\": [10,11,12,13,14], # output columns in the dataset\n",
    "\n",
    "    \"bool_data_generation\": True,  # data is already stored and splitted\n",
    "    \"data_size\": 1000000,\n",
    "    \"split_ratio\": [0.7, 0.15, 0.15],  # [0.7,0.15,0.15]\n",
    "\n",
    "    \"bool_normalize\": True,  # whether we normalize the input data or not\n",
    "    \"bool_shuffle\": True  # whether we shuffle the data\n",
    "}\n",
    "config[\"TRAIN_PARAM\"] = {\n",
    "    \"num_epochs_INN\": 100,\n",
    "    \"num_epochs_MLP\": 100,\n",
    "    \"batch_size\": 128,\n",
    "    \"learning_rate\": 1e-3,\n",
    "    \"bool_train_acc\": False,\n",
    "\n",
    "    \"validation_period\": 10,\n",
    "    \"bool_denormalize\": False,  # or True, whether we denormalize when measuring errors\n",
    "    \"error_type\": \"mse\",  # rmse or mse\n",
    "    \"patience\": 10,\n",
    "    \"stopping_loss_train\": 4e-4\n",
    "}\n",
    "\n",
    "# Create dataset and save it in /data directory\n",
    "data = dataset_regression.Data_regression(data_name, config)\n",
    "  "
   ]
  },
  {
   "cell_type": "markdown",
   "id": "bfe0830f",
   "metadata": {},
   "source": [
    "Now the datafile was created at /data/1D_1D_sine_10000.csv. The file name ending with \"_10000\" denotes the data_size in the config variable. Let us visualize the data using pandas."
   ]
  },
  {
   "cell_type": "code",
   "execution_count": 11,
   "id": "a1799f9a",
   "metadata": {
    "vscode": {
     "languageId": "markdown"
    }
   },
   "outputs": [
    {
     "data": {
      "text/html": [
       "<div>\n",
       "<style scoped>\n",
       "    .dataframe tbody tr th:only-of-type {\n",
       "        vertical-align: middle;\n",
       "    }\n",
       "\n",
       "    .dataframe tbody tr th {\n",
       "        vertical-align: top;\n",
       "    }\n",
       "\n",
       "    .dataframe thead th {\n",
       "        text-align: right;\n",
       "    }\n",
       "</style>\n",
       "<table border=\"1\" class=\"dataframe\">\n",
       "  <thead>\n",
       "    <tr style=\"text-align: right;\">\n",
       "      <th></th>\n",
       "      <th>x1</th>\n",
       "      <th>x2</th>\n",
       "      <th>x3</th>\n",
       "      <th>x4</th>\n",
       "      <th>x5</th>\n",
       "      <th>x6</th>\n",
       "      <th>x7</th>\n",
       "      <th>x8</th>\n",
       "      <th>x9</th>\n",
       "      <th>x10</th>\n",
       "      <th>u1</th>\n",
       "      <th>u2</th>\n",
       "      <th>u3</th>\n",
       "      <th>u4</th>\n",
       "      <th>u5</th>\n",
       "    </tr>\n",
       "  </thead>\n",
       "  <tbody>\n",
       "    <tr>\n",
       "      <th>0</th>\n",
       "      <td>0.385983</td>\n",
       "      <td>0.756249</td>\n",
       "      <td>0.397685</td>\n",
       "      <td>0.609083</td>\n",
       "      <td>0.122860</td>\n",
       "      <td>0.667948</td>\n",
       "      <td>0.210607</td>\n",
       "      <td>0.224966</td>\n",
       "      <td>0.696133</td>\n",
       "      <td>0.338887</td>\n",
       "      <td>-197.355468</td>\n",
       "      <td>0.358267</td>\n",
       "      <td>6.097321</td>\n",
       "      <td>0.773473</td>\n",
       "      <td>248.568777</td>\n",
       "    </tr>\n",
       "    <tr>\n",
       "      <th>1</th>\n",
       "      <td>0.830538</td>\n",
       "      <td>0.946635</td>\n",
       "      <td>0.481156</td>\n",
       "      <td>0.265116</td>\n",
       "      <td>0.719175</td>\n",
       "      <td>0.168365</td>\n",
       "      <td>0.658874</td>\n",
       "      <td>0.987596</td>\n",
       "      <td>0.123958</td>\n",
       "      <td>0.805102</td>\n",
       "      <td>-403.578452</td>\n",
       "      <td>0.348198</td>\n",
       "      <td>5.609222</td>\n",
       "      <td>0.694016</td>\n",
       "      <td>302.451919</td>\n",
       "    </tr>\n",
       "    <tr>\n",
       "      <th>2</th>\n",
       "      <td>0.422028</td>\n",
       "      <td>0.314211</td>\n",
       "      <td>0.286128</td>\n",
       "      <td>0.192950</td>\n",
       "      <td>0.257675</td>\n",
       "      <td>0.524438</td>\n",
       "      <td>0.605413</td>\n",
       "      <td>0.905532</td>\n",
       "      <td>0.414083</td>\n",
       "      <td>0.983750</td>\n",
       "      <td>-90.530637</td>\n",
       "      <td>0.470854</td>\n",
       "      <td>4.940361</td>\n",
       "      <td>0.771587</td>\n",
       "      <td>277.354997</td>\n",
       "    </tr>\n",
       "    <tr>\n",
       "      <th>3</th>\n",
       "      <td>0.316487</td>\n",
       "      <td>0.774567</td>\n",
       "      <td>0.120525</td>\n",
       "      <td>0.880524</td>\n",
       "      <td>0.103807</td>\n",
       "      <td>0.631655</td>\n",
       "      <td>0.652926</td>\n",
       "      <td>0.195743</td>\n",
       "      <td>0.969031</td>\n",
       "      <td>0.517211</td>\n",
       "      <td>-281.252093</td>\n",
       "      <td>0.264405</td>\n",
       "      <td>6.071011</td>\n",
       "      <td>1.428927</td>\n",
       "      <td>209.645109</td>\n",
       "    </tr>\n",
       "    <tr>\n",
       "      <th>4</th>\n",
       "      <td>0.978135</td>\n",
       "      <td>0.816018</td>\n",
       "      <td>0.683751</td>\n",
       "      <td>0.723170</td>\n",
       "      <td>0.648270</td>\n",
       "      <td>0.941244</td>\n",
       "      <td>0.467634</td>\n",
       "      <td>0.426148</td>\n",
       "      <td>0.440896</td>\n",
       "      <td>0.861603</td>\n",
       "      <td>-276.189190</td>\n",
       "      <td>0.436724</td>\n",
       "      <td>5.043639</td>\n",
       "      <td>0.770566</td>\n",
       "      <td>308.603082</td>\n",
       "    </tr>\n",
       "  </tbody>\n",
       "</table>\n",
       "</div>"
      ],
      "text/plain": [
       "         x1        x2        x3        x4        x5        x6        x7  \\\n",
       "0  0.385983  0.756249  0.397685  0.609083  0.122860  0.667948  0.210607   \n",
       "1  0.830538  0.946635  0.481156  0.265116  0.719175  0.168365  0.658874   \n",
       "2  0.422028  0.314211  0.286128  0.192950  0.257675  0.524438  0.605413   \n",
       "3  0.316487  0.774567  0.120525  0.880524  0.103807  0.631655  0.652926   \n",
       "4  0.978135  0.816018  0.683751  0.723170  0.648270  0.941244  0.467634   \n",
       "\n",
       "         x8        x9       x10          u1        u2        u3        u4  \\\n",
       "0  0.224966  0.696133  0.338887 -197.355468  0.358267  6.097321  0.773473   \n",
       "1  0.987596  0.123958  0.805102 -403.578452  0.348198  5.609222  0.694016   \n",
       "2  0.905532  0.414083  0.983750  -90.530637  0.470854  4.940361  0.771587   \n",
       "3  0.195743  0.969031  0.517211 -281.252093  0.264405  6.071011  1.428927   \n",
       "4  0.426148  0.440896  0.861603 -276.189190  0.436724  5.043639  0.770566   \n",
       "\n",
       "           u5  \n",
       "0  248.568777  \n",
       "1  302.451919  \n",
       "2  277.354997  \n",
       "3  209.645109  \n",
       "4  308.603082  "
      ]
     },
     "execution_count": 11,
     "metadata": {},
     "output_type": "execute_result"
    }
   ],
   "source": [
    "import pandas as pd\n",
    "\n",
    "# Load the CSV file\n",
    "data_size = int(config[\"DATA_PARAM\"][\"data_size\"])\n",
    "df = pd.read_csv(f'./data/{data_name}_{data_size}.csv')\n",
    "\n",
    "# Display the first few rows\n",
    "df.head()"
   ]
  },
  {
   "cell_type": "markdown",
   "id": "8d50d20f",
   "metadata": {},
   "source": [
    "The datafile contains 15 columns: x1 ~ x10, u1 ~ u5.\n",
    "Next, we define INN hyperparameters. According to Figure 4(a) of the INN paper, the following hyperparameters were used.\n",
    "\n",
    "* nmode: number of modes; integer\n",
    "\n",
    "nnmode: 14\n",
    "\n",
    "* nseg: number of segments for each dimension; integer or a list of integers\n",
    "\n",
    "nseg: 10\n",
    "\n",
    "* s_patch; integer, 0 <= s_patch < nseg/2\n",
    "\n",
    "s_patch: 2\n",
    "\n",
    "* INN activation; string\n",
    "\n",
    "INN activation: polynomial\n",
    "\n",
    "* p_order; integer, p_order <= s_patch\n",
    "\n",
    "p_order: 2"
   ]
  },
  {
   "cell_type": "code",
   "execution_count": 12,
   "id": "bc830bdf",
   "metadata": {},
   "outputs": [],
   "source": [
    "config[\"MODEL_PARAM\"] = {\n",
    "    \"nmode\": 14,\n",
    "    \"nseg\": 10,\n",
    "    \"s_patch\": 2,\n",
    "    \"INNactivation\": \"polynomial\", # INN activation function, can be 'polynomial', 'sinusoidal', 'exponential', 'sigmoid', 'tanh', 'gelu'\n",
    "    \"p_order\": 2,\n",
    "    ### non-adjustable parameters\n",
    "    \"radial_basis\": \"cubicSpline\",\n",
    "    \"alpha_dil\": 20 # this is a dilation parameter and will be set as 20 for default.\n",
    "}"
   ]
  },
  {
   "cell_type": "markdown",
   "id": "0a773c32",
   "metadata": {},
   "source": [
    "Let's finalize the configuration file."
   ]
  },
  {
   "cell_type": "code",
   "execution_count": 13,
   "id": "8fe84bbb",
   "metadata": {},
   "outputs": [],
   "source": [
    "if config[\"MODEL_PARAM\"][\"s_patch\"] > 0:\n",
    "    config['interp_method'] = \"nonlinear\" # nonlinear (Q=2 INN message passing) interpolation\n",
    "elif config[\"MODEL_PARAM\"][\"s_patch\"] == 0:\n",
    "    config['interp_method'] = \"linear\" # linear (Q=1 INN message passing) interpolation\n",
    "config['TD_type'] = \"CP\""
   ]
  },
  {
   "cell_type": "markdown",
   "id": "4fd8eb14",
   "metadata": {},
   "source": [
    "Train INN (Q=2 nonlinear interpolation)"
   ]
  },
  {
   "cell_type": "code",
   "execution_count": 14,
   "id": "9128daab",
   "metadata": {},
   "outputs": [
    {
     "name": "stdout",
     "output_type": "stream",
     "text": [
      "edex_max / ndex_max: 6 / 5\n",
      "------------ INN CP nonlinear, nmode: 14, nseg: 10, s=2, P=2 -------------\n",
      "# of training parameters: 7700\n",
      "Epoch 1\n",
      "\tTrain mse: 9.4849e-03\n",
      "\t48.62 seconds per epoch\n",
      "Epoch 2\n",
      "\tTrain mse: 4.0226e-04\n",
      "\t49.72 seconds per epoch\n",
      "Epoch 3\n",
      "\tTrain mse: 2.1738e-04\n",
      "\t49.58 seconds per epoch\n",
      "Training took 148.7513 seconds/ 49.58 seconds per epoch\n",
      "Test\n",
      "\tTest MSE: 1.9039e-04\n",
      "\tTest took 9.9480 seconds\n",
      "\tInference time: 0.0001 seconds\n"
     ]
    }
   ],
   "source": [
    "regressor = train.Regression_INN(data, config)  \n",
    "regressor.train()  # Train module\n",
    "params = regressor.params\n",
    "errors_train, errors_val, errors_epoch = regressor.errors_train, regressor.errors_val, regressor.errors_epoch, \n"
   ]
  },
  {
   "cell_type": "code",
   "execution_count": null,
   "id": "b242c683",
   "metadata": {},
   "outputs": [],
   "source": []
  }
 ],
 "metadata": {
  "kernelspec": {
   "display_name": "pyinn-env",
   "language": "python",
   "name": "python3"
  },
  "language_info": {
   "codemirror_mode": {
    "name": "ipython",
    "version": 3
   },
   "file_extension": ".py",
   "mimetype": "text/x-python",
   "name": "python",
   "nbconvert_exporter": "python",
   "pygments_lexer": "ipython3",
   "version": "3.13.1"
  }
 },
 "nbformat": 4,
 "nbformat_minor": 5
}
